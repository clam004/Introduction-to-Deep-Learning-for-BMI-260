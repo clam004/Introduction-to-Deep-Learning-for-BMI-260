{
 "cells": [
  {
   "cell_type": "raw",
   "metadata": {},
   "source": [
    "## get PyTorch\n",
    "\n",
    "This is an adaptation of the Pytorch Tutorial\n",
    "\n",
    "Follow install instructions and see original tutorial here:\n",
    "\n",
    "http://pytorch.org/\n",
    "\n",
    "Why do we use PyTorch / Tensorflow for Deep learning?\n",
    "\n",
    "<img src=\"https://i.stack.imgur.com/Stmud.png\" >"
   ]
  },
  {
   "cell_type": "code",
   "execution_count": 1,
   "metadata": {},
   "outputs": [
    {
     "name": "stdout",
     "output_type": "stream",
     "text": [
      "0.4.0\n",
      "numpy:  [0. 1.]\n",
      "torch:  tensor([ 0.,  1.], dtype=torch.float64)\n",
      "gradient None\n",
      "d tensor(2., dtype=torch.float64)\n"
     ]
    }
   ],
   "source": [
    "import torch\n",
    "from torch.autograd import Variable\n",
    "import numpy as np\n",
    "print(torch.__version__) # should be the latest version 0.4.0\n",
    "r = np.asarray([0.0,1.0])\n",
    "print(\"numpy: \",r)\n",
    "a = Variable(torch.from_numpy(r), requires_grad=True)\n",
    "print(\"torch: \",a)\n",
    "b = a**2\n",
    "c = a + 1\n",
    "d = torch.sum(c - b)\n",
    "e = c/2\n",
    "print(\"gradient\" ,a.grad) # should be none\n",
    "print(\"d\", d)"
   ]
  },
  {
   "cell_type": "markdown",
   "metadata": {},
   "source": [
    "$$d = \\sum (a+1) - a^2$$\n",
    "\n",
    "$$\\frac{\\partial(d)}{\\partial(a_i)} = 1 - 2a_i$$"
   ]
  },
  {
   "cell_type": "code",
   "execution_count": 2,
   "metadata": {},
   "outputs": [
    {
     "name": "stdout",
     "output_type": "stream",
     "text": [
      "gradient tensor([ 1., -1.], dtype=torch.float64)\n"
     ]
    }
   ],
   "source": [
    "d.backward(retain_graph=True)\n",
    "print(\"gradient\" ,a.grad) # 1 - 2(0) = 1, 1 - 2(1) = -1"
   ]
  },
  {
   "cell_type": "markdown",
   "metadata": {},
   "source": [
    "W = W - LR*Grad"
   ]
  },
  {
   "cell_type": "code",
   "execution_count": 3,
   "metadata": {},
   "outputs": [
    {
     "name": "stdout",
     "output_type": "stream",
     "text": [
      "tensor([ 0.,  1.], dtype=torch.float64)\n",
      "gradient tensor([ 1., -1.], dtype=torch.float64)\n",
      "tensor([-1.,  2.], dtype=torch.float64)\n"
     ]
    }
   ],
   "source": [
    "import torch.optim as optim\n",
    "\n",
    "# create your optimizer\n",
    "optimizer = optim.SGD([a], lr=1.0)\n",
    "\n",
    "# in your training loop:\n",
    "print(a)\n",
    "optimizer.zero_grad()   # zero the gradient buffers\n",
    "d.backward()\n",
    "print(\"gradient\" ,a.grad)\n",
    "optimizer.step()    # Does the update\n",
    "print(a)"
   ]
  },
  {
   "cell_type": "markdown",
   "metadata": {},
   "source": [
    "\n",
    "The Data\n",
    "=====================\n",
    "\n",
    "For this tutorial, we will use the CIFAR10 dataset.\n",
    "It has the classes: ‘airplane’, ‘automobile’, ‘bird’, ‘cat’, ‘deer’,\n",
    "‘dog’, ‘frog’, ‘horse’, ‘ship’, ‘truck’. The images in CIFAR-10 are of\n",
    "size 3x32x32, i.e. 3-channel color images of 32x32 pixels in size.\n",
    "\n",
    ".. figure:: /_static/img/cifar10.png\n",
    "   :alt: cifar10\n",
    "\n",
    "   cifar10\n",
    "\n",
    "\n",
    "Training an image classifier\n",
    "----------------------------\n",
    "\n",
    "We will do the following steps in order:\n",
    "\n",
    "1. Load and normalizing the CIFAR10 training and test datasets using\n",
    "   ``torchvision``\n",
    "2. Define a Convolution Neural Network\n",
    "3. Define a loss function\n",
    "4. Train the network on the training data\n",
    "5. Test the network on the test data\n"
   ]
  },
  {
   "cell_type": "code",
   "execution_count": 4,
   "metadata": {
    "collapsed": true
   },
   "outputs": [],
   "source": [
    "import torch\n",
    "import torchvision\n",
    "import torchvision.transforms as transforms\n",
    "%matplotlib inline"
   ]
  },
  {
   "cell_type": "markdown",
   "metadata": {},
   "source": [
    "1. Loading and normalizing CIFAR10\n",
    "----------------------------\n",
    "\n",
    "Using ``torchvision``, it’s extremely easy to load CIFAR10.\n",
    "\n",
    "The output of torchvision datasets are PILImage images of range [0, 1].\n",
    "We transform them to Tensors of normalized range [-1, 1].\n",
    "\n"
   ]
  },
  {
   "cell_type": "code",
   "execution_count": 5,
   "metadata": {},
   "outputs": [
    {
     "name": "stdout",
     "output_type": "stream",
     "text": [
      "Files already downloaded and verified\n",
      "Files already downloaded and verified\n"
     ]
    }
   ],
   "source": [
    "transform = transforms.Compose(\n",
    "    [transforms.ToTensor(),\n",
    "     transforms.Normalize((0.5, 0.5, 0.5), (0.5, 0.5, 0.5))])\n",
    "\n",
    "trainset = torchvision.datasets.CIFAR10(root='./data', train=True,\n",
    "                                        download=True, transform=transform)\n",
    "trainloader = torch.utils.data.DataLoader(trainset, batch_size=4,\n",
    "                                          shuffle=True, num_workers=2)\n",
    "\n",
    "testset = torchvision.datasets.CIFAR10(root='./data', train=False,\n",
    "                                       download=True, transform=transform)\n",
    "testloader = torch.utils.data.DataLoader(testset, batch_size=4,\n",
    "                                         shuffle=False, num_workers=2)\n",
    "\n",
    "classes = ('plane', 'car', 'bird', 'cat',\n",
    "           'deer', 'dog', 'frog', 'horse', 'ship', 'truck')"
   ]
  },
  {
   "cell_type": "markdown",
   "metadata": {},
   "source": [
    "Let us show some of the training images, for fun.\n",
    "\n"
   ]
  },
  {
   "cell_type": "code",
   "execution_count": 6,
   "metadata": {},
   "outputs": [
    {
     "name": "stdout",
     "output_type": "stream",
     "text": [
      "horse   cat horse  frog\n"
     ]
    },
    {
     "data": {
      "image/png": "[encoded data removed]",
      "text/plain": [
       "<matplotlib.figure.Figure at 0x11c420c50>"
      ]
     },
     "metadata": {},
     "output_type": "display_data"
    }
   ],
   "source": [
    "import matplotlib.pyplot as plt\n",
    "# functions to show an image\n",
    "\n",
    "def imshow(img):\n",
    "    img = img / 2 + 0.5     # unnormalize\n",
    "    npimg = img.numpy()\n",
    "    plt.imshow(np.transpose(npimg, (1, 2, 0)))\n",
    "\n",
    "\n",
    "# get some random training images\n",
    "dataiter = iter(trainloader)\n",
    "images, labels = dataiter.next()\n",
    "\n",
    "# how to convert back and forth from numpy arrays to torch Tensors \n",
    "images = images.numpy()\n",
    "labels = labels.numpy()\n",
    "\n",
    "images = torch.from_numpy(images)\n",
    "labels = torch.from_numpy(labels)\n",
    "\n",
    "# show images\n",
    "imshow(torchvision.utils.make_grid(images))\n",
    "# print labels\n",
    "print(' '.join('%5s' % classes[labels[j]] for j in range(4)))"
   ]
  },
  {
   "cell_type": "code",
   "execution_count": 7,
   "metadata": {},
   "outputs": [
    {
     "name": "stdout",
     "output_type": "stream",
     "text": [
      "-1.0 1.0\n",
      "(4, 3, 32, 32)\n"
     ]
    }
   ],
   "source": [
    "print(min(images.numpy().flatten()), max(images.numpy().flatten()))\n",
    "print(images.numpy().shape)\n",
    "#print(images) # [torch.FloatTensor of size 4x3x32x32]\n",
    "#print(labels.numpy(), labels.numpy().shape)\n",
    "#print(labels) #[torch.LongTensor of size 4]"
   ]
  },
  {
   "cell_type": "markdown",
   "metadata": {},
   "source": [
    "### 2. Define a Convolution Neural Network\n",
    "\n",
    "-  see the CNN as compression of activations and go over the conversion formula\n",
    "\n",
    "<img src = \"http://deeplearning.net/software/theano/_images/numerical_padding_strides.gif\" >\n",
    "\n",
    "here is a 3 $\\times$ 3 kernel applied to a $5 \\times$ 5 input padded with a 1 $\\times$ 1 border of zeros using 2 $\\times$ 2 strides. \n",
    "\n",
    "kernel weights are [[2,0,1],[1,0,0],[0,1,1]]\n",
    "\n",
    "$$W2 = \\frac{(W1 - F + 2P)}{S} + 1$$\n",
    "\n",
    "$$\\frac{(5 - 3 + 2(1))}{2} + 1 = 2 + 1 = 3$$\n",
    "\n",
    "http://cs231n.github.io/convolutional-networks/\n",
    "\n",
    "https://github.com/vdumoulin/conv_arithmetic/blob/master/README.md\n",
    "\n",
    "- activation volumes / compressed images \n",
    "\n",
    "<img src=\"http://cs231n.github.io/assets/cnn/cnn.jpeg\">\n",
    "\n",
    "- Affine Layers / Linear transformations / vanilla feed forward Neural network\n",
    "\n",
    "<img src=\"http://cs231n.github.io/assets/wb.jpeg\"> \n",
    "\n",
    "<img src=\"http://ufldl.stanford.edu/wiki/images/thumb/9/99/Network331.png/400px-Network331.png\">\n",
    "\n",
    "- Relu Activation\n",
    "\n",
    "<img src = \"http://laid.delanover.com/wp-content/uploads/2017/08/elu.png\">\n",
    "\n",
    "Leaky ReLUs allow a small, non-zero gradient when the unit is not active.\n",
    "\n",
    "Parametric ReLUs take this idea further by making the coefficient of leakage into a parameter that is learned along with the other neural network parameters\n",
    "\n",
    "$\n",
    "\\begin{split}\\text{PReLU}(x) =\n",
    "\\begin{cases}\n",
    "x, & \\text{ if } x \\geq 0 \\\\\n",
    "ax, & \\text{ otherwise }\n",
    "\\end{cases}\\end{split}\n",
    "$\n",
    "\n",
    "Without non-linearities, DNNs would just be a linear transformation\n",
    "\n",
    "W(Wx) = Wx\n",
    "\n",
    "## f(W(f(Wx)))\n",
    "\n",
    "- Max Pooling\n",
    "\n",
    "<img src = \"http://cs231n.github.io/assets/cnn/maxpool.jpeg\">\n",
    "\n",
    "## PyTorch nn.Conv2d\n",
    "\n",
    "torch.nn only supports mini-batches. The entire `torch.nn` package only supports inputs that are a mini-batch of samples, and not a single sample.\n",
    "\n",
    "For example, `nn.Conv2d` will take in a 4D Tensor of `nSamples x nChannels x Height x Width`.\n",
    "\n",
    "If you have a single sample, just use `input.unsqueeze(0)` to add a fake batch dimension."
   ]
  },
  {
   "cell_type": "code",
   "execution_count": 8,
   "metadata": {},
   "outputs": [
    {
     "name": "stdout",
     "output_type": "stream",
     "text": [
      "tensor([[[[ 0.,  1.,  0.],\n",
      "          [ 0.,  0.,  0.]]]])\n",
      "tensor([[[[-0.5365,  0.2071]]]])\n",
      "Net(\n",
      "  (conv): Conv2d(1, 1, kernel_size=(2, 2), stride=(1, 1))\n",
      ")\n",
      "conv.weight tensor([[[[ 0.2781, -0.4656],\n",
      "          [ 0.2815, -0.3115]]]])\n",
      "conv.bias tensor(1.00000e-02 *\n",
      "       [-7.0961])\n"
     ]
    }
   ],
   "source": [
    "import torch.nn as nn\n",
    "\n",
    "x = np.asarray([[0.0,1.0,0.0],[0.0, 0.0, 0.0]])\n",
    "x = Variable(torch.from_numpy(x), requires_grad=True).unsqueeze(0).unsqueeze(0).float()\n",
    "print(x)\n",
    "\n",
    "class Net(nn.Module):\n",
    "    \n",
    "    def __init__(self):\n",
    "        \n",
    "        super(Net, self).__init__()\n",
    "        self.conv = nn.Conv2d(in_channels=1,out_channels=1,kernel_size=2,stride=1,padding=0)\n",
    "\n",
    "    def forward(self, x):\n",
    "        \n",
    "        x = self.conv(x)\n",
    "        return x\n",
    "    \n",
    "net = Net()\n",
    "z = net(x)\n",
    "print(z)\n",
    "\n",
    "print(net)\n",
    "\n",
    "for name, param in net.named_parameters():\n",
    "    if param.requires_grad:\n",
    "        print(name, param.data)"
   ]
  },
  {
   "cell_type": "markdown",
   "metadata": {},
   "source": [
    "# Model architecture as a class using the PyTorch F and nn.Module "
   ]
  },
  {
   "cell_type": "code",
   "execution_count": 9,
   "metadata": {
    "collapsed": true
   },
   "outputs": [],
   "source": [
    "from torch.autograd import Variable\n",
    "import torch.nn as nn\n",
    "import torch.nn.functional as F\n",
    "\n",
    "class Net(nn.Module):\n",
    "    \n",
    "    def __init__(self):\n",
    "        \n",
    "        super(Net, self).__init__() # https://stackoverflow.com/questions/222877/what-does-super-do-in-python/33469090#33469090\n",
    "        self.conv1 = nn.Conv2d(in_channels=3,out_channels=8,kernel_size=5,stride=1,padding=0)\n",
    "        self.pool = nn.MaxPool2d(2, 2) \n",
    "        self.conv2 = nn.Conv2d(in_channels=8,out_channels=16,kernel_size=5,stride=1,padding=0)\n",
    "        self.fc1 = nn.Linear(16 * 5 * 5, 64) # y = Wx+b\n",
    "        self.fc2 = nn.Linear(64, 32)\n",
    "        self.fc3 = nn.Linear(32, 10)\n",
    "\n",
    "    def forward(self, x):\n",
    "        # note that the expect shape of an input is (batch_size,channels, H,W)\n",
    "        x = self.pool(F.relu(self.conv1(x))) # (32 - 5)/1 + 1 = 28 , 28/2 = 14\n",
    "        x = self.pool(F.relu(self.conv2(x))) # (14 - 5)/1 + 1 = 10, 10/2 = 5\n",
    "        x = x.view(-1, 16 * 5 * 5) # flatten activation\n",
    "        x = F.relu(self.fc1(x)) # affine\n",
    "        x = F.relu(self.fc2(x)) # affine\n",
    "        x = self.fc3(x) # affine \n",
    "        return x # shape = (batch_size,output_dim), [torch.FloatTensor of size 4x10] \n",
    "\n",
    "####### instantiate Neural Network ############\n",
    "\n",
    "net = Net()\n",
    "\n",
    "##############################################"
   ]
  },
  {
   "cell_type": "markdown",
   "metadata": {},
   "source": [
    "### 3. Define a Loss function and optimizer\n",
    "\n",
    "Let's use a Classification Cross-Entropy loss and SGD with momentum.\n",
    "\n",
    "- What is a loss function?\n",
    "\n",
    "The Loss function is a scalar, calculated from the output of your neural network and the ground truth labels, that requires the neural network to do what you want it to do in order to be minimized. This means if you change your parameters in the opposite direction of the gradient w.r.t the loss, the neural network gets better at classification.\n",
    "\n",
    "y = label\n",
    "\n",
    "$\\hat{y}$ =  outputs\n",
    "\n",
    "$$CE(y,\\hat{y}) = - \\sum_{i=1}^{C} y_i \\cdot log(\\hat{y}_i)$$\n",
    "\n",
    "Where C is the number of classes, ie length of the output vector and $\\hat{y}$ is the softmax probability. \n",
    "\n",
    " $$softmax(o + c)_i = \\frac{e^{o_i+c}}{\\sum_{j} e^{o_j +c}} = \\frac{e^{o_i}\\cdot e^{c}}{\\sum_{j} e^{o_j}\\cdot e^{c}} = \\frac{C \\cdot e^{o_i}}{C \\cdot \\sum_{j} e^{o_j}} = \\frac{e^{o_i}}{\\sum_{j} e^{o_j}} = softmax(o)_i$$\n",
    "\n",
    "y is a one hot encoded vector of the correct labels (\"frog\", 6 = [0,0,0,0,0,1,0,0,0]), lets assume that the k-th element is the only element = 1. The rest of the contributions to the cross entropy function are zeroed out from $y_i = 0$. \n",
    "\n",
    "We write the k-th and only contribution to the CE where $y_k = 1$ and $\\hat{y}$ has been replaced by the softmax function. $\\theta$, outputs, is the input to the softmax, raw class scores before they are softmax normalized. \n",
    "\n",
    "$\\theta$ = outputs\n",
    "\n",
    "$\\hat{y}$ = softmax($\\theta$). \n",
    "\n",
    "For one sample:\n",
    "\n",
    "$$ CE(y,\\hat{y}) = - log(\\frac{e^{\\theta_k}}{\\sum_{i=1}^{C} e^{\\theta_i} }) = log(\\frac{\\sum_{i=1}^{C} e^{\\theta_i}}{ e^{\\theta_k} }) $$\n",
    "    \n",
    "$$ = log(\\sum_{i=1}^{C} e^{\\theta_i} ) - log(e^{\\theta_k}) = log(\\sum_{i=1}^{C} e^{\\theta_i} ) - \\theta_k$$\n",
    "\n",
    "Now the cross entropy is expressed in a form in terms of the softmax input $\\theta$. We will take the derivative with respect to an arbitrary $\\theta_i$ not necessarily the correct score $\\theta_k$ and use the result for the individual element to see the result for the vector.\n",
    "\n",
    "$$\\frac{\\partial CE}{\\partial \\theta_i} = \\frac{\\partial}{\\partial \\theta_i} (log(\\sum_{i=1}^{C} e^{\\theta_i} ) - \\theta_k)  = \\frac{1}{\\sum_{i=1}^{C} e^{\\theta_i}} \\cdot e^{\\theta_i} - 1[i==k]$$\n",
    "\n",
    "The [i==k] term is a condition that means to subtract 1 only if the index of $\\theta$ is the index for the correct class in which $ y_i$ = 1, ie $ y_k$. This follows from the derivative $\\frac{\\partial \\theta_k}{\\partial \\theta_k} = 1$ and $\\frac{\\partial \\theta_k}{\\partial \\theta_i} = 0$ . In vector form: \n",
    "\n",
    "$$\\frac{\\partial CE}{\\partial \\theta}  = softmax(\\theta) - y $$\n"
   ]
  },
  {
   "cell_type": "code",
   "execution_count": 10,
   "metadata": {},
   "outputs": [
    {
     "name": "stdout",
     "output_type": "stream",
     "text": [
      "tensor([[ 10.,  10.]])\n",
      "tensor([ 0])\n"
     ]
    },
    {
     "data": {
      "text/plain": [
       "tensor(0.6931)"
      ]
     },
     "execution_count": 10,
     "metadata": {},
     "output_type": "execute_result"
    }
   ],
   "source": [
    "import torch.optim as optim\n",
    "\n",
    "criterion = nn.CrossEntropyLoss()\n",
    "\n",
    "optimizer = optim.SGD(net.parameters(), lr=0.001, momentum=0.9)\n",
    "\n",
    "s = np.asarray([10,10]) #np.asarray([0.5,0.5])\n",
    "l = np.asarray([0])\n",
    "s = Variable(torch.from_numpy(s), requires_grad=True).unsqueeze(0).float()\n",
    "l = Variable(torch.from_numpy(l)) # Variable(torch.from_numpy(l), requires_grad=False).unsqueeze(0)\n",
    "print(s) # scores must be variables of shape NxC, a matrix \n",
    "print(l) # labels must be variables of shape N, not Nx1, a vector, not a matrix\n",
    "loss = criterion(s,l)\n",
    "loss"
   ]
  },
  {
   "cell_type": "code",
   "execution_count": 11,
   "metadata": {},
   "outputs": [
    {
     "data": {
      "text/plain": [
       "12500"
      ]
     },
     "execution_count": 11,
     "metadata": {},
     "output_type": "execute_result"
    }
   ],
   "source": [
    "# how big is our dataset? \n",
    "len(trainloader)"
   ]
  },
  {
   "cell_type": "markdown",
   "metadata": {},
   "source": [
    "```python\n",
    "loss = criterion(outputs, labels)\n",
    "```\n",
    "\n",
    "Input(outputs): (N,C) where C = number of classes\n",
    "\n",
    "```python\n",
    "Variable containing:\n",
    " 0.0999  0.1114 -0.1228 -0.1509 -0.1447  0.0225 -0.0651 -0.1255  0.1152 -0.0538\n",
    " 0.0997  0.1115 -0.1206 -0.1452 -0.1385  0.0162 -0.0626 -0.1249  0.1166 -0.0567\n",
    " 0.0999  0.0996 -0.1172 -0.1439 -0.1498  0.0165 -0.0616 -0.1226  0.1042 -0.0651\n",
    " 0.1010  0.1027 -0.1187 -0.1462 -0.1461  0.0162 -0.0634 -0.1284  0.1101 -0.0560\n",
    "[torch.FloatTensor of size 4x10]\n",
    "```\n",
    "\n",
    "Target(labels): (N) where each value is 0≤targets[i]≤C−1\n",
    "\n",
    "```python\n",
    "Variable containing:\n",
    " 6\n",
    " 2\n",
    " 9\n",
    " 8\n",
    "[torch.LongTensor of size 4]\n",
    "```\n",
    "\n",
    "Output: scalar = Loss"
   ]
  },
  {
   "cell_type": "markdown",
   "metadata": {},
   "source": [
    "### 4. Train the network\n",
    "\n",
    "This is when things start to get interesting.\n",
    "We simply have to loop over our data iterator, and feed the inputs to the\n",
    "network and optimize.\n",
    "\n",
    "- Concept check: what do you expect the average loss to be at the start of training?\n",
    "\n",
    "-ln(0.1) = 2.3"
   ]
  },
  {
   "cell_type": "code",
   "execution_count": 12,
   "metadata": {},
   "outputs": [
    {
     "data": {
      "image/png": "[encoded data removed]",
      "text/plain": [
       "<matplotlib.figure.Figure at 0x131eb4a58>"
      ]
     },
     "metadata": {},
     "output_type": "display_data"
    }
   ],
   "source": [
    "# dont run this cell \n",
    "# first layer filters before training , they should look random before training\n",
    "\n",
    "mm = net.double()\n",
    "filters = mm.modules\n",
    "layer1 = [i for i in mm.children()][0]\n",
    "tensor = layer1.weight.data.numpy()\n",
    "\n",
    "fig = plt.figure(figsize=(10,10))\n",
    "for i in range(8):\n",
    "    ax1 = fig.add_subplot(2,4,i+1)\n",
    "    tensor[i] = tensor[i] - min(tensor[i].flatten())\n",
    "    tensor[i] = tensor[i] / max(tensor[i].flatten())\n",
    "    ax1.imshow(np.transpose(tensor[i], (1, 2, 0)))\n",
    "    ax1.axis('off')\n",
    "    ax1.set_xticklabels([])\n",
    "    ax1.set_yticklabels([])"
   ]
  },
  {
   "cell_type": "markdown",
   "metadata": {},
   "source": [
    "## Training Loop\n",
    "\n",
    "Show the random filters and the evaluation results (after the training cell) first before training, then show again after training"
   ]
  },
  {
   "cell_type": "code",
   "execution_count": 12,
   "metadata": {},
   "outputs": [
    {
     "name": "stderr",
     "output_type": "stream",
     "text": [
      "/anaconda/anaconda3/lib/python3.6/site-packages/ipykernel_launcher.py:27: UserWarning: invalid index of a 0-dim tensor. This will be an error in PyTorch 0.5. Use tensor.item() to convert a 0-dim tensor to a Python number\n"
     ]
    },
    {
     "name": "stdout",
     "output_type": "stream",
     "text": [
      "[1,  2000] loss: 2.158\n",
      "[1,  4000] loss: 1.845\n",
      "[1,  6000] loss: 1.687\n",
      "[1,  8000] loss: 1.586\n",
      "[1, 10000] loss: 1.532\n",
      "[1, 12000] loss: 1.500\n",
      "[2,  2000] loss: 1.409\n",
      "[2,  4000] loss: 1.373\n",
      "[2,  6000] loss: 1.357\n",
      "[2,  8000] loss: 1.332\n",
      "[2, 10000] loss: 1.309\n",
      "[2, 12000] loss: 1.268\n",
      "[3,  2000] loss: 1.239\n",
      "[3,  4000] loss: 1.213\n",
      "[3,  6000] loss: 1.211\n",
      "[3,  8000] loss: 1.206\n",
      "[3, 10000] loss: 1.166\n",
      "[3, 12000] loss: 1.169\n",
      "[4,  2000] loss: 1.102\n",
      "[4,  4000] loss: 1.126\n",
      "[4,  6000] loss: 1.126\n",
      "[4,  8000] loss: 1.124\n",
      "[4, 10000] loss: 1.100\n",
      "[4, 12000] loss: 1.091\n",
      "[5,  2000] loss: 1.033\n",
      "[5,  4000] loss: 1.049\n",
      "[5,  6000] loss: 1.054\n",
      "[5,  8000] loss: 1.041\n",
      "[5, 10000] loss: 1.057\n",
      "[5, 12000] loss: 1.040\n",
      "Finished Training\n"
     ]
    }
   ],
   "source": [
    "# Training Cell\n",
    "\n",
    "for epoch in range(5):  # loop over the dataset multiple times\n",
    "\n",
    "    running_loss = 0.0\n",
    "    for i, data in enumerate(trainloader, 0): # for each epoch, sample from the dataset \n",
    "        \n",
    "        # get the input normalized images and labels\n",
    "        inputs, labels = data\n",
    "\n",
    "        # wrap them in Variable so they are connected to the computational graph\n",
    "        inputs, labels = Variable(inputs), Variable(labels)\n",
    "\n",
    "        # zero the parameter gradients so that this batch's gradients are not added to previous batch's\n",
    "        optimizer.zero_grad()\n",
    "\n",
    "        # forward + backward + optimize: ALOT happens here in just 4 short lines of code \n",
    "        outputs = net(inputs) # forward pass\n",
    "        #print(outputs)\n",
    "        #print(labels)\n",
    "        #break\n",
    "        loss = criterion(outputs, labels) # calculate loss\n",
    "        loss.backward() # backward pass to calculate gradients\n",
    "        optimizer.step() # apply gradients to all parameters\n",
    "\n",
    "        \n",
    "        running_loss += loss.data[0] # add all losses together so they can be averaged at print time\n",
    "        \n",
    "        # print statistics\n",
    "        if i % 2000 == 1999:    # print every 2000 mini-batches\n",
    "            print('[%d, %5d] loss: %.3f' %\n",
    "                  (epoch + 1, i + 1, running_loss / 2000))\n",
    "            running_loss = 0.0\n",
    "\n",
    "print('Finished Training')"
   ]
  },
  {
   "cell_type": "markdown",
   "metadata": {},
   "source": [
    "### 5. Test the network on the test data\n",
    "\n",
    "We have trained the network for 5 passes over the training dataset.\n",
    "But we need to check if the network has learnt anything at all.\n",
    "\n",
    "We will check this by predicting the class label that the neural network\n",
    "outputs, and checking it against the ground-truth. If the prediction is\n",
    "correct, we add the sample to the list of correct predictions.\n",
    "\n",
    "Okay, first step. Let us display an image from the test set to get familiar.\n",
    "\n"
   ]
  },
  {
   "cell_type": "code",
   "execution_count": 13,
   "metadata": {},
   "outputs": [
    {
     "name": "stdout",
     "output_type": "stream",
     "text": [
      "GroundTruth:    cat  ship  ship plane\n"
     ]
    },
    {
     "data": {
      "image/png": "[encoded data removed]",
      "text/plain": [
       "<matplotlib.figure.Figure at 0x11c42cda0>"
      ]
     },
     "metadata": {},
     "output_type": "display_data"
    }
   ],
   "source": [
    "# the right answers\n",
    "dataiter = iter(testloader)\n",
    "images, labels = dataiter.next()\n",
    "\n",
    "# print images\n",
    "imshow(torchvision.utils.make_grid(images))\n",
    "print('GroundTruth: ', ' '.join('%5s' % classes[labels[j]] for j in range(4)))"
   ]
  },
  {
   "cell_type": "markdown",
   "metadata": {},
   "source": [
    "Okay, now let us see what the neural network thinks these examples above are:\n",
    "\n"
   ]
  },
  {
   "cell_type": "code",
   "execution_count": 14,
   "metadata": {},
   "outputs": [
    {
     "data": {
      "text/plain": [
       "tensor([[-0.4602, -2.9341,  0.7712,  3.1372,  0.0559,  3.1865,  0.1174,\n",
       "         -0.3713, -0.9940, -1.6799],\n",
       "        [ 4.0004,  7.2506, -2.5849, -3.5252, -3.5262, -5.0609, -4.4425,\n",
       "         -3.1956,  4.3191,  4.2016],\n",
       "        [ 1.6949,  1.9847, -0.9312, -1.1193, -0.7672, -1.9709, -2.3201,\n",
       "         -1.7989,  3.4498,  1.6197],\n",
       "        [ 4.4054, -0.4274, -0.0780, -1.5923,  0.3300, -2.6361, -3.3885,\n",
       "         -1.9651,  4.0294,  0.9341]])"
      ]
     },
     "execution_count": 14,
     "metadata": {},
     "output_type": "execute_result"
    }
   ],
   "source": [
    "# what our network thinks\n",
    "outputs = net(Variable(images))\n",
    "outputs"
   ]
  },
  {
   "cell_type": "markdown",
   "metadata": {},
   "source": [
    "The outputs are energies for the 10 classes.\n",
    "Higher the energy for a class, the more the network\n",
    "thinks that the image is of the particular class.\n",
    "So, let's get the index of the highest energy:\n",
    "\n"
   ]
  },
  {
   "cell_type": "code",
   "execution_count": 15,
   "metadata": {},
   "outputs": [
    {
     "name": "stdout",
     "output_type": "stream",
     "text": [
      "Predicted:    dog   car  ship plane\n"
     ]
    }
   ],
   "source": [
    "_, predicted = torch.max(outputs.data, 1)\n",
    "\n",
    "print('Predicted: ', ' '.join('%5s' % classes[predicted[j]]\n",
    "                              for j in range(4)))"
   ]
  },
  {
   "cell_type": "markdown",
   "metadata": {},
   "source": [
    "The results seem pretty good.\n",
    "\n",
    "Let us look at how the network performs on the whole dataset.\n",
    "\n"
   ]
  },
  {
   "cell_type": "code",
   "execution_count": 16,
   "metadata": {},
   "outputs": [
    {
     "name": "stdout",
     "output_type": "stream",
     "text": [
      "Accuracy of the network on the 10000 test images: 62 %\n"
     ]
    }
   ],
   "source": [
    "correct = 0\n",
    "total = 0\n",
    "for data in testloader:\n",
    "    images, labels = data\n",
    "    outputs = net(Variable(images))\n",
    "    _, predicted = torch.max(outputs.data, 1)\n",
    "    total += labels.size(0)\n",
    "    correct += (predicted == labels).sum()\n",
    "\n",
    "print('Accuracy of the network on the 10000 test images: %d %%' % (\n",
    "    100 * correct / total))"
   ]
  },
  {
   "cell_type": "markdown",
   "metadata": {},
   "source": [
    "That looks waaay better than chance, which is 10% accuracy (randomly picking\n",
    "a class out of 10 classes).\n",
    "Seems like the network learnt something.\n",
    "\n",
    "Hmmm, what are the classes that performed well, and the classes that did\n",
    "not perform well:\n",
    "\n"
   ]
  },
  {
   "cell_type": "code",
   "execution_count": 18,
   "metadata": {
    "collapsed": true
   },
   "outputs": [],
   "source": [
    "class_correct = list(0. for i in range(10))\n",
    "class_total = list(0. for i in range(10))\n",
    "\n",
    "for data in testloader:\n",
    "    images, labels = data\n",
    "    #outputs = net(Variable(images).double())\n",
    "    outputs = net(Variable(images))\n",
    "    _, predicted = torch.max(outputs.data, 1)\n",
    "    c = (predicted == labels).squeeze().int()\n",
    "    for i in range(4):\n",
    "        label = labels[i]\n",
    "        class_correct[label] += c[i]\n",
    "        class_total[label] += 1"
   ]
  },
  {
   "cell_type": "code",
   "execution_count": 19,
   "metadata": {},
   "outputs": [
    {
     "name": "stdout",
     "output_type": "stream",
     "text": [
      "Accuracy of plane : 71 %\n",
      "Accuracy of   car : 77 %\n",
      "Accuracy of  bird : 43 %\n",
      "Accuracy of   cat : 37 %\n",
      "Accuracy of  deer : 51 %\n",
      "Accuracy of   dog : 56 %\n",
      "Accuracy of  frog : 67 %\n",
      "Accuracy of horse : 64 %\n",
      "Accuracy of  ship : 76 %\n",
      "Accuracy of truck : 77 %\n"
     ]
    }
   ],
   "source": [
    "class_total[0]\n",
    "\n",
    "for i in range(10):\n",
    "    \n",
    "    print('Accuracy of %5s : %2d %%' % (classes[i], 100 * class_correct[i] / class_total[i]))"
   ]
  },
  {
   "cell_type": "code",
   "execution_count": 20,
   "metadata": {},
   "outputs": [
    {
     "data": {
      "image/png": "[encoded data removed]",
      "text/plain": [
       "<matplotlib.figure.Figure at 0x12012f438>"
      ]
     },
     "metadata": {},
     "output_type": "display_data"
    }
   ],
   "source": [
    "mm = net.double()\n",
    "filters = mm.modules\n",
    "layer1 = [i for i in mm.children()][0]\n",
    "tensor = layer1.weight.data.numpy()\n",
    "\n",
    "fig = plt.figure(figsize=(10,10))\n",
    "for i in range(8):\n",
    "    ax1 = fig.add_subplot(2,4,i+1)\n",
    "    tensor[i] = tensor[i] - min(tensor[i].flatten())\n",
    "    tensor[i] = tensor[i] / max(tensor[i].flatten())\n",
    "    ax1.imshow(np.transpose(tensor[i], (1, 2, 0)))\n",
    "    ax1.axis('off')\n",
    "    ax1.set_xticklabels([])\n",
    "    ax1.set_yticklabels([])"
   ]
  },
  {
   "cell_type": "markdown",
   "metadata": {},
   "source": [
    "Okay, so what next?\n",
    "\n",
    "How do we run these neural networks on the GPU?\n",
    "\n",
    "Training on GPU\n",
    "----------------\n",
    "Just like how you transfer a Tensor on to the GPU, you transfer the neural\n",
    "net onto the GPU.\n",
    "This will recursively go over all modules and convert their parameters and\n",
    "buffers to CUDA tensors:\n",
    "\n",
    "\n",
    "        net.cuda()\n",
    "\n",
    "\n",
    "Remember that you will have to send the inputs and targets at every step\n",
    "to the GPU too:\n",
    "\n",
    "\n",
    "        inputs, labels = Variable(inputs.cuda()), Variable(labels.cuda())\n",
    "\n",
    "Why dont I notice MASSIVE speedup compared to CPU? Because your network\n",
    "is realllly small.\n",
    "\n",
    "\n",
    "**Goals achieved**:\n",
    "\n",
    "- Understanding PyTorch's Tensor library and neural networks at a high level.\n",
    "- Train a small neural network to classify images\n",
    "\n",
    "\n"
   ]
  },
  {
   "cell_type": "code",
   "execution_count": 1,
   "metadata": {
    "collapsed": true
   },
   "outputs": [],
   "source": [
    "def im2col(x,hh,ww,stride):\n",
    "\n",
    "    \"\"\"\n",
    "    Args:\n",
    "      x: image matrix to be translated into columns, (C,H,W)\n",
    "      hh: filter height\n",
    "      ww: filter width\n",
    "      stride: stride\n",
    "    Returns:\n",
    "      col: (new_h*new_w,hh*ww*C) matrix, each column is a cube that will convolve with a filter\n",
    "            new_h = (H-hh) // stride + 1, new_w = (W-ww) // stride + 1\n",
    "    \"\"\"\n",
    "\n",
    "    c,h,w = x.shape\n",
    "    new_h = (h-hh) // stride + 1\n",
    "    new_w = (w-ww) // stride + 1\n",
    "    col = np.zeros([new_h*new_w,c*hh*ww])\n",
    "\n",
    "    for i in range(new_h):\n",
    "       for j in range(new_w):\n",
    "           patch = x[...,i*stride:i*stride+hh,j*stride:j*stride+ww]\n",
    "           col[i*new_w+j,:] = np.reshape(patch,-1)\n",
    "    return col"
   ]
  },
  {
   "cell_type": "code",
   "execution_count": 58,
   "metadata": {},
   "outputs": [
    {
     "data": {
      "text/plain": [
       "array([[0, 1, 0, 0],\n",
       "       [0, 1, 0, 0],\n",
       "       [1, 1, 0, 0]])"
      ]
     },
     "execution_count": 58,
     "metadata": {},
     "output_type": "execute_result"
    }
   ],
   "source": [
    "import numpy as np\n",
    "x = np.random.randint(2, size=12).reshape(1,3,4)\n",
    "xcol = im2col(x,2,2,1)\n",
    "x = np.squeeze(x)\n",
    "x"
   ]
  },
  {
   "cell_type": "code",
   "execution_count": 59,
   "metadata": {
    "collapsed": true
   },
   "outputs": [],
   "source": [
    "#im2col(x,3,3,1)\n",
    "# filter size = 3 x 3, stride = 1\n",
    "ker = np.array([\n",
    "                 [1., -1.],\n",
    "                 [1., -1.],\n",
    "                ])"
   ]
  },
  {
   "cell_type": "code",
   "execution_count": 60,
   "metadata": {},
   "outputs": [
    {
     "data": {
      "text/plain": [
       "array([[ 2., -2.,  0.],\n",
       "       [ 1., -2.,  0.]])"
      ]
     },
     "execution_count": 60,
     "metadata": {},
     "output_type": "execute_result"
    }
   ],
   "source": [
    "from scipy.signal import convolve2d\n",
    "\n",
    "### WRITE CODE IN HERE , you can have up to 2 cells for this question but only one is required ######\n",
    "\n",
    "convolve2d(x, ker, 'valid')"
   ]
  },
  {
   "cell_type": "code",
   "execution_count": 61,
   "metadata": {},
   "outputs": [
    {
     "data": {
      "text/plain": [
       "array([[0., 1., 0., 1.],\n",
       "       [1., 0., 1., 0.],\n",
       "       [0., 0., 0., 0.],\n",
       "       [0., 1., 1., 1.],\n",
       "       [1., 0., 1., 0.],\n",
       "       [0., 0., 0., 0.]])"
      ]
     },
     "execution_count": 61,
     "metadata": {},
     "output_type": "execute_result"
    }
   ],
   "source": [
    "xcol"
   ]
  },
  {
   "cell_type": "code",
   "execution_count": 71,
   "metadata": {},
   "outputs": [
    {
     "data": {
      "text/plain": [
       "array([ 1., -1.,  1., -1.])"
      ]
     },
     "execution_count": 71,
     "metadata": {},
     "output_type": "execute_result"
    }
   ],
   "source": [
    "ker_flat = np.flip(ker.flatten(),axis=0)\n",
    "np.flip(ker_flat,axis=0)"
   ]
  },
  {
   "cell_type": "code",
   "execution_count": 69,
   "metadata": {},
   "outputs": [
    {
     "data": {
      "text/plain": [
       "array([ 2., -2.,  0.,  1., -2.,  0.])"
      ]
     },
     "execution_count": 69,
     "metadata": {},
     "output_type": "execute_result"
    }
   ],
   "source": [
    "out = xcol.dot(ker_flat)\n",
    "out"
   ]
  },
  {
   "cell_type": "code",
   "execution_count": 47,
   "metadata": {
    "collapsed": true
   },
   "outputs": [],
   "source": [
    "def col2im(mul,h_prime,w_prime,C):\n",
    "    \"\"\"\n",
    "      Args:\n",
    "      mul: (h_prime*w_prime*w,F) matrix, each col should be reshaped to C*h_prime*w_prime when C>0, or h_prime*w_prime when C = 0\n",
    "      h_prime: reshaped filter height\n",
    "      w_prime: reshaped filter width\n",
    "      C: reshaped filter channel, if 0, reshape the filter to 2D, Otherwise reshape it to 3D\n",
    "    Returns:\n",
    "      if C == 0: (F,h_prime,w_prime) matrix\n",
    "      Otherwise: (F,C,h_prime,w_prime) matrix\n",
    "    \"\"\"\n",
    "    F = mul.shape[1]\n",
    "    if(C == 1):\n",
    "        out = np.zeros([F,h_prime,w_prime])\n",
    "        for i in range(F):\n",
    "            col = mul[:,i]\n",
    "            out[i,:,:] = np.reshape(col,(h_prime,w_prime))\n",
    "    else:\n",
    "        out = np.zeros([F,C,h_prime,w_prime])\n",
    "        for i in range(F):\n",
    "            col = mul[:,i]\n",
    "            out[i,:,:] = np.reshape(col,(C,h_prime,w_prime))\n",
    "\n",
    "    return out"
   ]
  },
  {
   "cell_type": "code",
   "execution_count": 50,
   "metadata": {},
   "outputs": [
    {
     "ename": "IndexError",
     "evalue": "tuple index out of range",
     "output_type": "error",
     "traceback": [
      "\u001b[0;31m---------------------------------------------------------------------------\u001b[0m",
      "\u001b[0;31mIndexError\u001b[0m                                Traceback (most recent call last)",
      "\u001b[0;32m<ipython-input-50-5853175c5793>\u001b[0m in \u001b[0;36m<module>\u001b[0;34m()\u001b[0m\n\u001b[0;32m----> 1\u001b[0;31m \u001b[0mcol2im\u001b[0m\u001b[0;34m(\u001b[0m\u001b[0mout\u001b[0m\u001b[0;34m,\u001b[0m \u001b[0;36m2\u001b[0m\u001b[0;34m,\u001b[0m\u001b[0;36m3\u001b[0m\u001b[0;34m,\u001b[0m\u001b[0;36m1\u001b[0m\u001b[0;34m)\u001b[0m\u001b[0;34m\u001b[0m\u001b[0m\n\u001b[0m",
      "\u001b[0;32m<ipython-input-47-e099fd9d0867>\u001b[0m in \u001b[0;36mcol2im\u001b[0;34m(mul, h_prime, w_prime, C)\u001b[0m\n\u001b[1;32m     10\u001b[0m       \u001b[0mOtherwise\u001b[0m\u001b[0;34m:\u001b[0m \u001b[0;34m(\u001b[0m\u001b[0mF\u001b[0m\u001b[0;34m,\u001b[0m\u001b[0mC\u001b[0m\u001b[0;34m,\u001b[0m\u001b[0mh_prime\u001b[0m\u001b[0;34m,\u001b[0m\u001b[0mw_prime\u001b[0m\u001b[0;34m)\u001b[0m \u001b[0mmatrix\u001b[0m\u001b[0;34m\u001b[0m\u001b[0m\n\u001b[1;32m     11\u001b[0m     \"\"\"\n\u001b[0;32m---> 12\u001b[0;31m     \u001b[0mF\u001b[0m \u001b[0;34m=\u001b[0m \u001b[0mmul\u001b[0m\u001b[0;34m.\u001b[0m\u001b[0mshape\u001b[0m\u001b[0;34m[\u001b[0m\u001b[0;36m1\u001b[0m\u001b[0;34m]\u001b[0m\u001b[0;34m\u001b[0m\u001b[0m\n\u001b[0m\u001b[1;32m     13\u001b[0m     \u001b[0;32mif\u001b[0m\u001b[0;34m(\u001b[0m\u001b[0mC\u001b[0m \u001b[0;34m==\u001b[0m \u001b[0;36m1\u001b[0m\u001b[0;34m)\u001b[0m\u001b[0;34m:\u001b[0m\u001b[0;34m\u001b[0m\u001b[0m\n\u001b[1;32m     14\u001b[0m         \u001b[0mout\u001b[0m \u001b[0;34m=\u001b[0m \u001b[0mnp\u001b[0m\u001b[0;34m.\u001b[0m\u001b[0mzeros\u001b[0m\u001b[0;34m(\u001b[0m\u001b[0;34m[\u001b[0m\u001b[0mF\u001b[0m\u001b[0;34m,\u001b[0m\u001b[0mh_prime\u001b[0m\u001b[0;34m,\u001b[0m\u001b[0mw_prime\u001b[0m\u001b[0;34m]\u001b[0m\u001b[0;34m)\u001b[0m\u001b[0;34m\u001b[0m\u001b[0m\n",
      "\u001b[0;31mIndexError\u001b[0m: tuple index out of range"
     ]
    }
   ],
   "source": []
  },
  {
   "cell_type": "code",
   "execution_count": null,
   "metadata": {
    "collapsed": true
   },
   "outputs": [],
   "source": []
  }
 ],
 "metadata": {
  "kernelspec": {
   "display_name": "Python 3",
   "language": "python",
   "name": "python3"
  },
  "language_info": {
   "codemirror_mode": {
    "name": "ipython",
    "version": 3
   },
   "file_extension": ".py",
   "mimetype": "text/x-python",
   "name": "python",
   "nbconvert_exporter": "python",
   "pygments_lexer": "ipython3",
   "version": "3.6.9"
  }
 },
 "nbformat": 4,
 "nbformat_minor": 1
}
